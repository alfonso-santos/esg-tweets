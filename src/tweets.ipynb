{
 "cells": [
  {
   "cell_type": "code",
   "execution_count": 9,
   "metadata": {},
   "outputs": [],
   "source": [
    "import numpy as np\n",
    "import matplotlib.pyplot as plt\n",
    "import pandas as pd\n",
    "import seaborn as sns\n",
    "import re\n"
   ]
  },
  {
   "cell_type": "code",
   "execution_count": 10,
   "metadata": {},
   "outputs": [
    {
     "data": {
      "text/html": [
       "<div>\n",
       "<style scoped>\n",
       "    .dataframe tbody tr th:only-of-type {\n",
       "        vertical-align: middle;\n",
       "    }\n",
       "\n",
       "    .dataframe tbody tr th {\n",
       "        vertical-align: top;\n",
       "    }\n",
       "\n",
       "    .dataframe thead th {\n",
       "        text-align: right;\n",
       "    }\n",
       "</style>\n",
       "<table border=\"1\" class=\"dataframe\">\n",
       "  <thead>\n",
       "    <tr style=\"text-align: right;\">\n",
       "      <th></th>\n",
       "      <th>Empresa</th>\n",
       "      <th>tweetText</th>\n",
       "      <th>tweetURL</th>\n",
       "      <th>tweetAuthor</th>\n",
       "      <th>handle</th>\n",
       "      <th>replyCount</th>\n",
       "      <th>quoteCount</th>\n",
       "      <th>retweetCount</th>\n",
       "      <th>likeCount</th>\n",
       "      <th>views</th>\n",
       "      <th>bookmarkCount</th>\n",
       "      <th>createdAt</th>\n",
       "      <th>allMediaURL</th>\n",
       "      <th>videoURL</th>\n",
       "      <th>Idioma_1</th>\n",
       "      <th>Idioma_2</th>\n",
       "      <th>Año</th>\n",
       "      <th>Unnamed: 20</th>\n",
       "      <th>Unnamed: 21</th>\n",
       "      <th>openai_tag</th>\n",
       "    </tr>\n",
       "    <tr>\n",
       "      <th>id_2</th>\n",
       "      <th></th>\n",
       "      <th></th>\n",
       "      <th></th>\n",
       "      <th></th>\n",
       "      <th></th>\n",
       "      <th></th>\n",
       "      <th></th>\n",
       "      <th></th>\n",
       "      <th></th>\n",
       "      <th></th>\n",
       "      <th></th>\n",
       "      <th></th>\n",
       "      <th></th>\n",
       "      <th></th>\n",
       "      <th></th>\n",
       "      <th></th>\n",
       "      <th></th>\n",
       "      <th></th>\n",
       "      <th></th>\n",
       "      <th></th>\n",
       "    </tr>\n",
       "  </thead>\n",
       "  <tbody>\n",
       "    <tr>\n",
       "      <th>948282772120064000</th>\n",
       "      <td>1</td>\n",
       "      <td>This year, we are looking forward to having mo...</td>\n",
       "      <td>https://twitter.com/abinbev/status/94828277212...</td>\n",
       "      <td>AB InBev</td>\n",
       "      <td>@abinbev</td>\n",
       "      <td>0</td>\n",
       "      <td>0</td>\n",
       "      <td>12</td>\n",
       "      <td>29</td>\n",
       "      <td>-</td>\n",
       "      <td>0</td>\n",
       "      <td>2018-01-02 21:00:05</td>\n",
       "      <td>https://pbs.twimg.com/media/DSj6JxHXcAAu4Jd.jpg</td>\n",
       "      <td>NaN</td>\n",
       "      <td>1.0</td>\n",
       "      <td>NaN</td>\n",
       "      <td>2018</td>\n",
       "      <td>NaN</td>\n",
       "      <td>NaN</td>\n",
       "      <td>No</td>\n",
       "    </tr>\n",
       "    <tr>\n",
       "      <th>950803659465658368</th>\n",
       "      <td>1</td>\n",
       "      <td>Our Chief People Officer David Almeida talks a...</td>\n",
       "      <td>https://twitter.com/abinbev/status/95080365946...</td>\n",
       "      <td>AB InBev</td>\n",
       "      <td>@abinbev</td>\n",
       "      <td>0</td>\n",
       "      <td>0</td>\n",
       "      <td>7</td>\n",
       "      <td>21</td>\n",
       "      <td>-</td>\n",
       "      <td>0</td>\n",
       "      <td>2018-01-09 19:57:12</td>\n",
       "      <td>https://pbs.twimg.com/media/DTHu2wQWkAEpVbv.jpg</td>\n",
       "      <td>NaN</td>\n",
       "      <td>1.0</td>\n",
       "      <td>NaN</td>\n",
       "      <td>2018</td>\n",
       "      <td>NaN</td>\n",
       "      <td>NaN</td>\n",
       "      <td>No</td>\n",
       "    </tr>\n",
       "  </tbody>\n",
       "</table>\n",
       "</div>"
      ],
      "text/plain": [
       "                    Empresa  \\\n",
       "id_2                          \n",
       "948282772120064000        1   \n",
       "950803659465658368        1   \n",
       "\n",
       "                                                            tweetText  \\\n",
       "id_2                                                                    \n",
       "948282772120064000  This year, we are looking forward to having mo...   \n",
       "950803659465658368  Our Chief People Officer David Almeida talks a...   \n",
       "\n",
       "                                                             tweetURL  \\\n",
       "id_2                                                                    \n",
       "948282772120064000  https://twitter.com/abinbev/status/94828277212...   \n",
       "950803659465658368  https://twitter.com/abinbev/status/95080365946...   \n",
       "\n",
       "                   tweetAuthor    handle  replyCount  quoteCount  \\\n",
       "id_2                                                               \n",
       "948282772120064000    AB InBev  @abinbev           0           0   \n",
       "950803659465658368    AB InBev  @abinbev           0           0   \n",
       "\n",
       "                    retweetCount  likeCount views  bookmarkCount  \\\n",
       "id_2                                                               \n",
       "948282772120064000            12         29     -              0   \n",
       "950803659465658368             7         21     -              0   \n",
       "\n",
       "                             createdAt  \\\n",
       "id_2                                     \n",
       "948282772120064000 2018-01-02 21:00:05   \n",
       "950803659465658368 2018-01-09 19:57:12   \n",
       "\n",
       "                                                        allMediaURL videoURL  \\\n",
       "id_2                                                                           \n",
       "948282772120064000  https://pbs.twimg.com/media/DSj6JxHXcAAu4Jd.jpg      NaN   \n",
       "950803659465658368  https://pbs.twimg.com/media/DTHu2wQWkAEpVbv.jpg      NaN   \n",
       "\n",
       "                    Idioma_1  Idioma_2   Año  Unnamed: 20  Unnamed: 21  \\\n",
       "id_2                                                                     \n",
       "948282772120064000       1.0       NaN  2018          NaN          NaN   \n",
       "950803659465658368       1.0       NaN  2018          NaN          NaN   \n",
       "\n",
       "                   openai_tag  \n",
       "id_2                           \n",
       "948282772120064000         No  \n",
       "950803659465658368         No  "
      ]
     },
     "execution_count": 10,
     "metadata": {},
     "output_type": "execute_result"
    }
   ],
   "source": [
    "# Cargar un archivo de datos en formato pickle y guardarlo en el DataFrame `tweets_df`\n",
    "tweets_df = pd.read_pickle('../data/data_tweets.pkl')\n",
    "\n",
    "# Establecer la columna 'id_2' como índice del DataFrame\n",
    "tweets_df.set_index('id_2', inplace=True)\n",
    "\n",
    "# Eliminar las columnas 'ID_1' y 'type' del DataFrame\n",
    "tweets_df.drop(['ID_1', 'type'], axis=1, inplace=True)\n",
    "\n",
    "# Renombrar la columna 'Emprea' a 'Empresa' para corregir el nombre\n",
    "tweets_df.rename(columns={'Emprea': 'Empresa'}, inplace=True)\n",
    "\n",
    "# Convertir la columna 'tweetText' al tipo de datos `string`\n",
    "tweets_df['tweetText'] = tweets_df['tweetText'].astype('string')\n",
    "\n",
    "tweets_df.head(2)"
   ]
  },
  {
   "cell_type": "code",
   "execution_count": 11,
   "metadata": {},
   "outputs": [
    {
     "data": {
      "text/plain": [
       "openai_tag\n",
       "No     347238\n",
       "Yes     40531\n",
       "Name: count, dtype: int64"
      ]
     },
     "execution_count": 11,
     "metadata": {},
     "output_type": "execute_result"
    }
   ],
   "source": [
    "tweets_df['openai_tag'].value_counts()"
   ]
  },
  {
   "cell_type": "code",
   "execution_count": 12,
   "metadata": {},
   "outputs": [],
   "source": [
    "# Filtrar los tweets etiquerados como ESG por ChatGPT ('Yes' en la columna 'openai_tag')\n",
    "tweets_df = tweets_df[tweets_df['openai_tag'] == 'Yes']\n"
   ]
  },
  {
   "cell_type": "code",
   "execution_count": 13,
   "metadata": {},
   "outputs": [
    {
     "name": "stdout",
     "output_type": "stream",
     "text": [
      "<class 'pandas.core.frame.DataFrame'>\n",
      "Index: 40531 entries, 955452656050495488 to 1130783217756323968\n",
      "Data columns (total 20 columns):\n",
      " #   Column         Non-Null Count  Dtype         \n",
      "---  ------         --------------  -----         \n",
      " 0   Empresa        40531 non-null  int64         \n",
      " 1   tweetText      40531 non-null  string        \n",
      " 2   tweetURL       40531 non-null  object        \n",
      " 3   tweetAuthor    40531 non-null  object        \n",
      " 4   handle         40531 non-null  object        \n",
      " 5   replyCount     40531 non-null  int64         \n",
      " 6   quoteCount     40531 non-null  int64         \n",
      " 7   retweetCount   40531 non-null  int64         \n",
      " 8   likeCount      40531 non-null  int64         \n",
      " 9   views          26988 non-null  object        \n",
      " 10  bookmarkCount  40531 non-null  int64         \n",
      " 11  createdAt      40531 non-null  datetime64[ns]\n",
      " 12  allMediaURL    25410 non-null  object        \n",
      " 13  videoURL       8182 non-null   object        \n",
      " 14  Idioma_1       40318 non-null  float64       \n",
      " 15  Idioma_2       9069 non-null   float64       \n",
      " 16  Año            40531 non-null  int64         \n",
      " 17  Unnamed: 20    0 non-null      float64       \n",
      " 18  Unnamed: 21    0 non-null      float64       \n",
      " 19  openai_tag     40531 non-null  object        \n",
      "dtypes: datetime64[ns](1), float64(4), int64(7), object(7), string(1)\n",
      "memory usage: 6.5+ MB\n"
     ]
    }
   ],
   "source": [
    "tweets_df.info()"
   ]
  },
  {
   "cell_type": "code",
   "execution_count": 14,
   "metadata": {},
   "outputs": [
    {
     "name": "stdout",
     "output_type": "stream",
     "text": [
      "El DataFrame contiene 40531 tweets y 20 campos por tweet.\n"
     ]
    }
   ],
   "source": [
    "# Veo dimensiones del dataframe\n",
    "# Obtener el número de tweets (filas) y campos por tweet (columnas)\n",
    "num_tweets, num_fields = tweets_df.shape\n",
    "\n",
    "# Imprimir el resultado con formato\n",
    "print(f\"El DataFrame contiene {num_tweets} tweets y {num_fields} campos por tweet.\")\n"
   ]
  },
  {
   "cell_type": "code",
   "execution_count": 15,
   "metadata": {},
   "outputs": [
    {
     "data": {
      "text/plain": [
       "Idioma_1\n",
       "1.0    23861\n",
       "2.0     9095\n",
       "3.0     4838\n",
       "5.0     1905\n",
       "4.0      619\n",
       "Name: count, dtype: int64"
      ]
     },
     "execution_count": 15,
     "metadata": {},
     "output_type": "execute_result"
    }
   ],
   "source": [
    "#  Los tweets están en varios idiomas, veo cuántos tweets hay por idioma\n",
    "tweets_df['Idioma_1'].value_counts()"
   ]
  },
  {
   "cell_type": "code",
   "execution_count": 16,
   "metadata": {},
   "outputs": [],
   "source": [
    "\n",
    "\n",
    "# Lista de palabras a buscar proporcionadas por Fenando\n",
    "palabras = ['medio ambiente', 'sostenible', 'ecológico', 'verde', 'biodegradable', 'compostable']\n",
    "\n",
    "\n",
    "# Listado de palabras en inglés, español, francés, alemán e italiano generadas a partir de las proporcionadas por Fernando usando ChatGPT\n",
    "# Cada palabra aparece una única vez y en la fila del sinónimo correspondiente\n",
    "\n",
    "# Lista de listas agrupadas por sinónimos para cada uno de los idiomas\n",
    "words_in_english = [\n",
    "    [\"environment\", \"nature\", \"ecosystem\"],  # Synonyms for 'environment'\n",
    "    [\"sustainable\", \"renewable\", \"viable\"],  # Synonyms for 'sustainable'\n",
    "    [\"ecological\", \"eco-friendly\"],  # Synonyms for 'ecological'\n",
    "    [\"green\", \"natural\", \"organic\"],  # Synonyms for 'green'\n",
    "    [\"biodegradable\", \"decomposable\", \"environmentally-friendly\"],  # Synonyms for 'biodegradable'\n",
    "    [\"compostable\", \"recyclable\", \"degradable\"]  # Synonyms for 'compostable'\n",
    "]\n",
    "\n",
    "words_in_spanish = [\n",
    "    [\"medio ambiente\", \"naturaleza\", \"entorno\", \"ecosistema\", \"ambiente\"],  # Sinónimos de 'medio ambiente'\n",
    "    [\"sostenible\", \"sustentable\", \"renovable\", \"viable\", \"ecológico\"],  # Sinónimos de 'sostenible'\n",
    "    [\"ambiental\", \"ecoamigable\", \"natural\"],  # Sinónimos de 'ecológico'\n",
    "    [\"verde\", \"orgánico\", \"sano\"],  # Sinónimos de 'verde'\n",
    "    [\"biodegradable\", \"degradable\", \"ecofriendly\"],  # Sinónimos de 'biodegradable'\n",
    "    [\"compostable\", \"reciclable\", \"desechable\", \"descomponible\"]  # Sinónimos de 'compostable'\n",
    "]\n",
    "\n",
    "words_in_french = [\n",
    "    [\"environnement\", \"nature\", \"écosystème\", \"milieu\", \"entourage\"],  # Synonyms for 'medio ambiente'\n",
    "    [\"durable\", \"soutenable\", \"viable\", \"renouvelable\", \"écologique\"],  # Synonyms for 'sostenible'\n",
    "    [\"environnemental\", \"éco-responsable\", \"naturel\"],  # Synonyms for 'ecológico'\n",
    "    [\"vert\", \"biologique\", \"sain\"],  # Synonyms for 'verde'\n",
    "    [\"biodégradable\", \"décomposable\", \"respectueux de l'environnement\"],  # Synonyms for 'biodegradable'\n",
    "    [\"compostable\", \"recyclable\", \"dégradable\"]  # Synonyms for 'compostable'\n",
    "]\n",
    "\n",
    "words_in_german = [\n",
    "    [\"umwelt\", \"natur\", \"ökosystem\", \"umfeld\", \"umgebung\"],  # Synonyms for 'medio ambiente'\n",
    "    [\"nachhaltig\", \"tragfähig\", \"erneuerbar\", \"beständig\", \"ökologisch\"],  # Synonyms for 'sostenible'\n",
    "    [\"umweltfreundlich\", \"natürlich\", \"umweltbezogen\"],  # Synonyms for 'ecológico'\n",
    "    [\"grün\", \"biologisch\", \"gesund\"],  # Synonyms for 'verde'\n",
    "    [\"biologisch abbaubar\", \"abbaubar\", \"umweltfreundlich\"],  # Synonyms for 'biodegradable'\n",
    "    [\"kompostierbar\", \"recycelbar\", \"zerlegbar\"]  # Synonyms for 'compostable'\n",
    "]\n",
    "\n",
    "\n",
    "words_in_italian = [\n",
    "    [\"ambiente\", \"natura\", \"ecosistema\", \"contesto\", \"circondario\"],  # Synonyms for 'medio ambiente'\n",
    "    [\"sostenibile\", \"rinnovabile\", \"duraturo\", \"fattibile\"],  # Synonyms for 'sostenible'\n",
    "    [\"ecologico\", \"ambientale\", \"eco-compatibile\", \"naturale\"],  # Synonyms for 'ecológico'\n",
    "    [\"verde\", \"organico\", \"salutare\"],  # Synonyms for 'verde'\n",
    "    [\"biodegradabile\", \"degradabile\", \"amico dell'ambiente\"],  # Synonyms for 'biodegradable'\n",
    "    [\"compostabile\", \"riciclabile\", \"disintegrabile\"]  # Synonyms for 'compostable'\n",
    "]\n",
    "\n",
    "# Diccionario con el nombre de los idiomas como clave y la lista de palabras como valor\n",
    "words_by_language = {\n",
    "    \"inglés\": words_in_english,\n",
    "    \"español\": words_in_spanish,\n",
    "    \"francés\": words_in_french,\n",
    "    \"alemán\": words_in_german,\n",
    "    \"italiano\": words_in_italian\n",
    "}\n",
    "\n"
   ]
  },
  {
   "cell_type": "code",
   "execution_count": 17,
   "metadata": {},
   "outputs": [],
   "source": [
    "# Idiomas detectados en fichero excell. Los números se corresponden a la comlumna Idioma_1\n",
    "\n",
    "idiomas_dict = {\n",
    "    1: \"inglés\",\n",
    "    2: \"español\",\n",
    "    3: \"francés\",\n",
    "    4: \"alemán\",\n",
    "    5: \"italiano\"\n",
    "}\n",
    "\n",
    "\n",
    "\n",
    "# Crear un diccionario para almacenar DataFrames separados por idioma\n",
    "dataframes_by_language = {}\n",
    "\n",
    "# Dividir el DataFrame principal en sub-DataFrames por idioma\n",
    "for idioma_id, idioma_name in idiomas_dict.items():\n",
    "    dataframes_by_language[idioma_name] = tweets_df[tweets_df['Idioma_1'] == idioma_id].copy()\n"
   ]
  },
  {
   "cell_type": "code",
   "execution_count": 18,
   "metadata": {},
   "outputs": [
    {
     "data": {
      "text/plain": [
       "dict_keys(['inglés', 'español', 'francés', 'alemán', 'italiano'])"
      ]
     },
     "execution_count": 18,
     "metadata": {},
     "output_type": "execute_result"
    }
   ],
   "source": [
    "# Procesar cada idioma\n",
    "for idioma, df in dataframes_by_language.items():\n",
    "    # Obtener las listas de palabras para este idioma\n",
    "    words_list = words_by_language.get(idioma, [])\n",
    "    \n",
    "    # Crear columnas basadas en las primeras palabras de cada lista de sinónimos\n",
    "    for word_group in words_list:\n",
    "        column_name = word_group[0]  # Usar la primera palabra como nombre de columna\n",
    "        \n",
    "        # Crear un patrón regex para todas las palabras del grupo, ignorando puntuación\n",
    "        pattern = rf'\\b({\"|\".join(re.escape(word) for word in word_group)})[^\\w]*\\b'\n",
    "        \n",
    "        # Contar las apariciones de todas las palabras del grupo en cada tweet\n",
    "        df[column_name] = df['tweetText'].str.lower().str.count(pattern)\n",
    "        \n",
    "    \n",
    "    # Reemplazar el DataFrame en el diccionario con el actualizado\n",
    "    dataframes_by_language[idioma] = df\n",
    "\n",
    "# Mostrar las claves del diccionario para verificar el procesamiento\n",
    "dataframes_by_language.keys()"
   ]
  },
  {
   "cell_type": "code",
   "execution_count": 19,
   "metadata": {},
   "outputs": [
    {
     "data": {
      "text/plain": [
       "Index(['Empresa', 'tweetText', 'tweetURL', 'tweetAuthor', 'handle',\n",
       "       'replyCount', 'quoteCount', 'retweetCount', 'likeCount', 'views',\n",
       "       'bookmarkCount', 'createdAt', 'allMediaURL', 'videoURL', 'Idioma_1',\n",
       "       'Idioma_2', 'Año', 'Unnamed: 20', 'Unnamed: 21', 'openai_tag',\n",
       "       'environment', 'sustainable', 'ecological', 'green', 'biodegradable',\n",
       "       'compostable'],\n",
       "      dtype='object')"
      ]
     },
     "execution_count": 19,
     "metadata": {},
     "output_type": "execute_result"
    }
   ],
   "source": [
    "dataframes_by_language['inglés'].columns"
   ]
  },
  {
   "cell_type": "code",
   "execution_count": 21,
   "metadata": {},
   "outputs": [
    {
     "data": {
      "text/plain": [
       "environment      1045\n",
       "sustainable      4421\n",
       "ecological        141\n",
       "green            1469\n",
       "biodegradable      42\n",
       "compostable       153\n",
       "dtype: Int64"
      ]
     },
     "execution_count": 21,
     "metadata": {},
     "output_type": "execute_result"
    }
   ],
   "source": [
    "columnas_ingles = ['environment', 'sustainable', 'ecological', 'green', 'biodegradable', 'compostable']\n",
    "dataframes_by_language['inglés'].loc[:, columnas_ingles].sum()"
   ]
  },
  {
   "cell_type": "code",
   "execution_count": 28,
   "metadata": {},
   "outputs": [
    {
     "data": {
      "text/plain": [
       "environment       4.161603\n",
       "sustainable      17.199614\n",
       "ecological        0.582541\n",
       "green             5.636813\n",
       "biodegradable     0.171829\n",
       "compostable       0.507104\n",
       "dtype: Float64"
      ]
     },
     "execution_count": 28,
     "metadata": {},
     "output_type": "execute_result"
    }
   ],
   "source": [
    "100 * (dataframes_by_language['inglés'].loc[:, columnas_ingles] != 0).sum()/dataframes_by_language['inglés'].shape[0]"
   ]
  },
  {
   "cell_type": "code",
   "execution_count": 22,
   "metadata": {},
   "outputs": [
    {
     "data": {
      "text/plain": [
       "Index(['Empresa', 'tweetText', 'tweetURL', 'tweetAuthor', 'handle',\n",
       "       'replyCount', 'quoteCount', 'retweetCount', 'likeCount', 'views',\n",
       "       'bookmarkCount', 'createdAt', 'allMediaURL', 'videoURL', 'Idioma_1',\n",
       "       'Idioma_2', 'Año', 'Unnamed: 20', 'Unnamed: 21', 'openai_tag',\n",
       "       'medio ambiente', 'sostenible', 'ambiental', 'verde', 'biodegradable',\n",
       "       'compostable'],\n",
       "      dtype='object')"
      ]
     },
     "execution_count": 22,
     "metadata": {},
     "output_type": "execute_result"
    }
   ],
   "source": [
    "dataframes_by_language['español'].columns"
   ]
  },
  {
   "cell_type": "code",
   "execution_count": 24,
   "metadata": {},
   "outputs": [
    {
     "data": {
      "text/plain": [
       "medio ambiente     516\n",
       "sostenible        1908\n",
       "ambiental          130\n",
       "verde              807\n",
       "biodegradable        7\n",
       "compostable          8\n",
       "dtype: Int64"
      ]
     },
     "execution_count": 24,
     "metadata": {},
     "output_type": "execute_result"
    }
   ],
   "source": [
    "columnas_español = ['medio ambiente', 'sostenible', 'ambiental', 'verde', 'biodegradable', 'compostable']\n",
    "dataframes_by_language['español'].loc[:, columnas_español].sum()"
   ]
  },
  {
   "cell_type": "code",
   "execution_count": 29,
   "metadata": {},
   "outputs": [
    {
     "data": {
      "text/plain": [
       "medio ambiente    5.409566\n",
       "sostenible        19.95602\n",
       "ambiental         1.418362\n",
       "verde             8.620121\n",
       "biodegradable     0.076965\n",
       "compostable        0.08796\n",
       "dtype: Float64"
      ]
     },
     "execution_count": 29,
     "metadata": {},
     "output_type": "execute_result"
    }
   ],
   "source": [
    "100 * (dataframes_by_language['español'].loc[:, columnas_español] != 0).sum() / dataframes_by_language['español'].shape[0]"
   ]
  }
 ],
 "metadata": {
  "kernelspec": {
   "display_name": "Python 3",
   "language": "python",
   "name": "python3"
  },
  "language_info": {
   "codemirror_mode": {
    "name": "ipython",
    "version": 3
   },
   "file_extension": ".py",
   "mimetype": "text/x-python",
   "name": "python",
   "nbconvert_exporter": "python",
   "pygments_lexer": "ipython3",
   "version": "3.11.6"
  }
 },
 "nbformat": 4,
 "nbformat_minor": 2
}
